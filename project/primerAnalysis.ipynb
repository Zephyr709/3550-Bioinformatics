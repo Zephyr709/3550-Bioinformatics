{
 "cells": [
  {
   "cell_type": "markdown",
   "metadata": {},
   "source": [
    "# Comp 3550 bioinformatics project"
   ]
  },
  {
   "cell_type": "markdown",
   "metadata": {},
   "source": [
    "## Introduction\n",
    "\n",
    "some stuff"
   ]
  },
  {
   "cell_type": "markdown",
   "metadata": {},
   "source": [
    "# Program"
   ]
  },
  {
   "cell_type": "markdown",
   "metadata": {},
   "source": [
    "## Libary setup"
   ]
  },
  {
   "cell_type": "code",
   "execution_count": 9,
   "metadata": {},
   "outputs": [],
   "source": [
    "\n",
    "# Import necessary libraries\n",
    "import numpy as np\n",
    "import matplotlib.pyplot as plt\n",
    "import pandas as pd\n",
    "import seaborn as sns\n",
    "from Bio.Blast import NCBIWWW, NCBIXML\n",
    "from Bio import SeqIO\n",
    "import csv, os\n"
   ]
  },
  {
   "cell_type": "markdown",
   "metadata": {},
   "source": [
    "## Functions"
   ]
  },
  {
   "cell_type": "markdown",
   "metadata": {},
   "source": [
    "### Functions to convert Fasta Files to CSV"
   ]
  },
  {
   "cell_type": "code",
   "execution_count": 10,
   "metadata": {},
   "outputs": [],
   "source": [
    "# Functions to convert fasta files to csv\n",
    "\n",
    "def convertFastaToCsv(input_file, output_file):\n",
    "    with open(input_file, 'r') as infile, open(output_file, 'w', newline='') as outfile:\n",
    "        csv_writer = csv.writer(outfile)\n",
    "        csv_writer.writerow(['sequenceIndex', 'direction', 'sequence'])\n",
    "        \n",
    "        for line in infile:\n",
    "            if line.strip() == '':\n",
    "                continue\n",
    "            if line.startswith('>'):\n",
    "                parts = line[1:].strip().split('_')\n",
    "                index = parts[1] if len(parts) > 2 else '0'\n",
    "                directionLetter = parts[2].split(\" \")[0] if len(parts) > 2 else parts[1].split(\" \")[0]\n",
    "                if directionLetter == 'F':\n",
    "                    direction = 'forward'\n",
    "                else:\n",
    "                    direction = 'reverse'\n",
    "            else:\n",
    "                sequence = line.strip()\n",
    "                csv_writer.writerow([index, direction, sequence])\n",
    "            \n",
    "            \n",
    "def convertFastaFolderToCsv(input_folder, output_folder):\n",
    "    if not os.path.exists(output_folder):\n",
    "        os.makedirs(output_folder)\n",
    "\n",
    "    for filename in os.listdir(input_folder):\n",
    "        if filename.endswith('.fas'):\n",
    "            input_file = os.path.join(input_folder, filename)\n",
    "            output_file = os.path.join(output_folder, f'{filename}.csv')\n",
    "            \n",
    "            # Check if output file already exists\n",
    "            if os.path.exists(output_file):\n",
    "                output_file = os.path.join(output_folder, f'{filename}.csv')\n",
    "                continue\n",
    "            \n",
    "            convertFastaToCsv(input_file, output_file)"
   ]
  },
  {
   "cell_type": "markdown",
   "metadata": {},
   "source": [
    "### Function to make Blast Requests"
   ]
  },
  {
   "cell_type": "markdown",
   "metadata": {},
   "source": [
    "## Main Program"
   ]
  },
  {
   "cell_type": "markdown",
   "metadata": {},
   "source": [
    "### Data Setup\n"
   ]
  },
  {
   "cell_type": "markdown",
   "metadata": {},
   "source": [
    "#### Convert to CSV Files for use with Pandas"
   ]
  },
  {
   "cell_type": "code",
   "execution_count": 11,
   "metadata": {},
   "outputs": [],
   "source": [
    "foldersToConvert = ['data/group/primer3','data/species/primer3']\n",
    "\n",
    "for folder in foldersToConvert:\n",
    "    convertFastaFolderToCsv(folder, folder)"
   ]
  },
  {
   "cell_type": "markdown",
   "metadata": {},
   "source": [
    "##### Initialize Group DataFrames"
   ]
  },
  {
   "cell_type": "code",
   "execution_count": null,
   "metadata": {},
   "outputs": [],
   "source": [
    "# Setup dataframes\n",
    "groupGeneous = pd.read_csv('data/group/geneious/Entero grp-specific primers (GENEIOUS).csv')\n",
    "groupPrimer3 = pd.read_csv('data/group/primer3/EnterobactericaeaP3.fas.csv')\n",
    "groupPrimerBlast = pd.read_csv('data/group/primerBlast/Entero grp-specific primers (BLAST).csv')\n",
    "groupPrimerQuest = pd.read_csv('Data/group/primerQuest/PrimerQuest family-specific.csv')\n",
    "\n",
    "# Store dataframes in dictionary for dynamic usage and access later\n",
    "groupData = {\n",
    "    'Geneious': groupGeneous,\n",
    "    'Primer3': groupPrimer3,\n",
    "    'PrimerBlast': groupPrimerBlast,\n",
    "    'PrimerQuest': groupPrimerQuest\n",
    "}\n"
   ]
  },
  {
   "cell_type": "markdown",
   "metadata": {},
   "source": [
    "##### Initialize Species DataFrames"
   ]
  },
  {
   "cell_type": "markdown",
   "metadata": {},
   "source": []
  }
 ],
 "metadata": {
  "kernelspec": {
   "display_name": "Python 3",
   "language": "python",
   "name": "python3"
  },
  "language_info": {
   "codemirror_mode": {
    "name": "ipython",
    "version": 3
   },
   "file_extension": ".py",
   "mimetype": "text/x-python",
   "name": "python",
   "nbconvert_exporter": "python",
   "pygments_lexer": "ipython3",
   "version": "3.12.6"
  }
 },
 "nbformat": 4,
 "nbformat_minor": 2
}
