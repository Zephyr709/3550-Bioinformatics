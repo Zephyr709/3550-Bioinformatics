{
 "cells": [
  {
   "cell_type": "code",
   "execution_count": 4,
   "metadata": {},
   "outputs": [],
   "source": [
    "\n",
    "# Import necessary libraries\n",
    "import numpy as np\n",
    "import matplotlib.pyplot as plt\n",
    "import pandas as pd\n",
    "import seaborn as sns\n",
    "from Bio.Blast import NCBIWWW\n",
    "from Bio import SeqIO\n",
    "import csv, os\n",
    "\n",
    "input_file = 'EnterobactericaeaP3.fas'\n",
    "output_file = 'parsed_sequences.csv'\n",
    "def convertFastaToCsv(input_file, output_file):\n",
    "    with open(input_file, 'r') as infile, open(output_file, 'w', newline='') as outfile:\n",
    "        csv_writer = csv.writer(outfile)\n",
    "        csv_writer.writerow(['index', 'direction', 'sequence'])\n",
    "        \n",
    "        for line in infile:\n",
    "            if line.startswith('>'):\n",
    "                parts = line[1:].strip().split('_')\n",
    "                index = parts[1] if len(parts) > 1 else '1'\n",
    "                direction = parts[2] if len(parts) > 2 else parts[1]\n",
    "            else:\n",
    "                sequence = line.strip()\n",
    "                csv_writer.writerow([index, direction, sequence])\n",
    "            \n",
    "            \n",
    "def convertFastaFolderToCsv(input_folder, output_folder):\n",
    "    if not os.path.exists(output_folder):\n",
    "        os.makedirs(output_folder)\n",
    "\n",
    "    for filename in os.listdir(input_folder):\n",
    "        if filename.endswith('.fas'):\n",
    "            input_file = os.path.join(input_folder, filename)\n",
    "            output_file = os.path.join(output_folder, f'{filename}.csv')\n",
    "            \n",
    "            # Check if output file already exists\n",
    "            if os.path.exists(output_file):\n",
    "                output_file = os.path.join(output_folder, f'{filename}.csv')\n",
    "                continue\n",
    "            \n",
    "            convertFastaFolderToCsv(input_file, output_file)"
   ]
  },
  {
   "cell_type": "code",
   "execution_count": null,
   "metadata": {},
   "outputs": [],
   "source": [
    "\n",
    "groupGeneous = pd.read_csv('data/group/geneious/Entero grp-specific primers (GENEIOUS).csv')\n",
    "groupPrimer3 = pd.read_csv('data/group/primer3/EnterobactericaeaP3.fas')"
   ]
  },
  {
   "cell_type": "code",
   "execution_count": null,
   "metadata": {},
   "outputs": [],
   "source": []
  }
 ],
 "metadata": {
  "kernelspec": {
   "display_name": "Python 3",
   "language": "python",
   "name": "python3"
  },
  "language_info": {
   "codemirror_mode": {
    "name": "ipython",
    "version": 3
   },
   "file_extension": ".py",
   "mimetype": "text/x-python",
   "name": "python",
   "nbconvert_exporter": "python",
   "pygments_lexer": "ipython3",
   "version": "3.12.6"
  }
 },
 "nbformat": 4,
 "nbformat_minor": 2
}
